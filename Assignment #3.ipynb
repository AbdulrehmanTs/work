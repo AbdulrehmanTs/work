{
 "cells": [
  {
   "cell_type": "code",
   "execution_count": 9,
   "metadata": {},
   "outputs": [
    {
     "name": "stdout",
     "output_type": "stream",
     "text": [
      "select your operator Here! [+,-,*,/ and power(**)]+\n",
      "please select right operator!!\n",
      "Enter 1st value2\n",
      "Enter 2nd value4\n",
      "6 Answer\n"
     ]
    }
   ],
   "source": [
    "#1 calculator\n",
    "\n",
    "op = input(\"select your operator Here! [+,-,*,/ and power(**)]\")\n",
    "if op != \"*,-,+,/,**\":\n",
    "    print(\"please select right operator!!\")\n",
    "else:\n",
    "    print(\"/n\")\n",
    "val1 = int(input(\"Enter 1st value\"))\n",
    "val2 = int(input(\"Enter 2nd value\"))\n",
    "\n",
    "if op == '+':\n",
    "    val = val1+val2\n",
    "    print(val,\"is Answer\")\n",
    "elif op == '-':\n",
    "    val = val1-val2\n",
    "    print(val,\"is Answer\")\n",
    "elif op == '*':\n",
    "    val = val1*val2\n",
    "    print(val,\"is Answer\")\n",
    "elif op == '/':\n",
    "    val = val1/val2\n",
    "    print(val,\"is Answer\")\n",
    "elif op == '**':\n",
    "    val = val1**val2\n",
    "    print(val,\"is Answer\")\n",
    "else:\n",
    "    print(\"invalid inputs\")"
   ]
  },
  {
   "cell_type": "code",
   "execution_count": 23,
   "metadata": {},
   "outputs": [
    {
     "name": "stdout",
     "output_type": "stream",
     "text": [
      "integer value is contained in list\n"
     ]
    }
   ],
   "source": [
    "#2 checking numeriv value is list\n",
    "\n",
    "list1 = [\"muhammad\",\"umar\", 15,\"talha\",\"jamal\",\"yousuf\", 2, 3,]\n",
    "\n",
    "for integer in list1:\n",
    "    if list1 == 15 or 2 or 3:\n",
    "        print(\"integer value is contained in list\")\n",
    "        break\n",
    "    else:\n",
    "        print(\"No integer is contained\")\n",
    "        break\n"
   ]
  },
  {
   "cell_type": "code",
   "execution_count": 34,
   "metadata": {},
   "outputs": [],
   "source": [
    "#3 Adding a key in dictionary\n",
    "\n",
    "dic = {\"name\": \"jamal\", \"roll\": \"120\", \"address\": \"karachi\"}\n",
    "\n",
    "dic[\"class\"] = \"10th\""
   ]
  },
  {
   "cell_type": "code",
   "execution_count": 39,
   "metadata": {
    "scrolled": true
   },
   "outputs": [
    {
     "data": {
      "text/plain": [
       "90"
      ]
     },
     "execution_count": 39,
     "metadata": {},
     "output_type": "execute_result"
    }
   ],
   "source": [
    "#4 addition of numeric items\n",
    "\n",
    "d = {\"key1\": 20, \"key2\": 30, \"key3\": 40,}\n",
    "sum(d.values())"
   ]
  },
  {
   "cell_type": "code",
   "execution_count": 51,
   "metadata": {},
   "outputs": [
    {
     "data": {
      "text/plain": [
       "{10, 20, 30, 'khan', 'maya'}"
      ]
     },
     "execution_count": 51,
     "metadata": {},
     "output_type": "execute_result"
    }
   ],
   "source": [
    "#5 indication of duplicate value\n",
    "\n",
    "list0 = [\"khan\", \"maya\", 10, 20, 10, 10, 10, 30,]\n",
    "set(list0)"
   ]
  },
  {
   "cell_type": "code",
   "execution_count": 53,
   "metadata": {},
   "outputs": [
    {
     "name": "stdout",
     "output_type": "stream",
     "text": [
      "key exists\n"
     ]
    }
   ],
   "source": [
    "#6 Python script to check if a given key already exists in a dictionary\n",
    "\n",
    "d = {\"name\": \"jamal\", \"roll\": \"120\", \"address\": \"karachi\"}\n",
    "if \"name\" in d.keys():\n",
    "    print(\"key exists\")"
   ]
  }
 ],
 "metadata": {
  "kernelspec": {
   "display_name": "Python 3",
   "language": "python",
   "name": "python3"
  },
  "language_info": {
   "codemirror_mode": {
    "name": "ipython",
    "version": 3
   },
   "file_extension": ".py",
   "mimetype": "text/x-python",
   "name": "python",
   "nbconvert_exporter": "python",
   "pygments_lexer": "ipython3",
   "version": "3.7.4"
  }
 },
 "nbformat": 4,
 "nbformat_minor": 2
}
