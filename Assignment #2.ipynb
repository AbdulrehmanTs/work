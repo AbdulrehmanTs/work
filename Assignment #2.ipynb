{
 "cells": [
  {
   "cell_type": "code",
   "execution_count": 10,
   "metadata": {},
   "outputs": [
    {
     "name": "stdout",
     "output_type": "stream",
     "text": [
      "Marks In English: 20\n",
      "Marks In Mathematics: 10\n",
      "Marks In Physics: 32\n",
      "Marks In Chemistry: 12\n",
      "Marks In Computer Science: 34\n",
      "Your Marks In Percentage Is  21.6 % \n",
      "You have failed\n"
     ]
    }
   ],
   "source": [
    "# Write a program which takes 5 inputs from user for different subject’s\n",
    "# marks, total it and generate mark sheet using grades ?\n",
    "\n",
    "a=int(input(\"Marks In English: \"))\n",
    "b=int(input(\"Marks In Mathematics: \"))\n",
    "c=int(input(\"Marks In Physics: \"))\n",
    "d=int(input(\"Marks In Chemistry: \"))\n",
    "e=int(input(\"Marks In Computer Science: \"))\n",
    " \n",
    "f=(a+b+c+d+e)*100/500\n",
    "print(\"Your Marks In Percentage Is \",f,\"% \")\n",
    " \n",
    "if f>=90:\n",
    "    print('You got the A+ grade! Marvelous')\n",
    "elif(f>=81 and f<=90):\n",
    "    print(\"Your Grade is A! Welldone\");\n",
    "elif(f>=71 and f<=80):\n",
    "    print(\"Your Grade is B+! Excellent\");\n",
    "elif(f>=61 and f<=70):\n",
    "    print(\"Your Grade is B! Very Good\");\n",
    "elif(f>=51 and f<=60):\n",
    "    print(\"Your Grade is C+! Good\");\n",
    "elif(f>=41 and f<=50):\n",
    "    print(\"Your Grade is C! **\");\n",
    "else:\n",
    "    print('You have failed')"
   ]
  },
  {
   "cell_type": "code",
   "execution_count": 14,
   "metadata": {},
   "outputs": [
    {
     "name": "stdout",
     "output_type": "stream",
     "text": [
      "Enter a number: 43\n",
      "This is an odd number.\n"
     ]
    }
   ],
   "source": [
    "#Write a program which take input from user and identify that the given number is even or odd?\n",
    "\n",
    "num = int(input(\"Enter a number: \"))\n",
    "mod = num % 2\n",
    "if mod > 0:\n",
    "    print(\"This is an odd number.\")\n",
    "else:\n",
    "    print(\"This is an even number.\")"
   ]
  },
  {
   "cell_type": "code",
   "execution_count": 17,
   "metadata": {},
   "outputs": [
    {
     "name": "stdout",
     "output_type": "stream",
     "text": [
      "The length of list is:  16\n"
     ]
    }
   ],
   "source": [
    "#Write a program which print the length of the list?\n",
    "\n",
    "mylist = [10,20,30,340,56,86,84,51,21,51,65,6,79,1,6,4]\n",
    "n = len(mylist)\n",
    "print(\"The length of list is: \", n)"
   ]
  },
  {
   "cell_type": "code",
   "execution_count": 18,
   "metadata": {},
   "outputs": [
    {
     "name": "stdout",
     "output_type": "stream",
     "text": [
      "How many numbers: 6\n",
      "Enter number 21\n",
      "Enter number 21\n",
      "Enter number 32\n",
      "Enter number 43\n",
      "Enter number 56\n",
      "Enter number 45\n",
      "Sum of numbers in given mylist is : 218\n"
     ]
    }
   ],
   "source": [
    "# Write a Python program to sum all the numeric items in a list?\n",
    "\n",
    "mylst = []\n",
    "num = int(input('How many numbers: '))\n",
    "for n in range(num):\n",
    "    numbers = int(input('Enter number '))\n",
    "    mylst.append(numbers)\n",
    "print(\"Sum of numbers in given mylist is :\", sum(mylst))"
   ]
  },
  {
   "cell_type": "code",
   "execution_count": 9,
   "metadata": {},
   "outputs": [
    {
     "name": "stdout",
     "output_type": "stream",
     "text": [
      "Largest number is: 321558\n"
     ]
    }
   ],
   "source": [
    "\n",
    "# Write a Python program to get the largest number from a numeric list.\n",
    "\n",
    "list1 = [54, 34, 54, 43, 2,87893,65437,321558,320,8743] \n",
    "print(\"Largest number is:\", max(list1))"
   ]
  },
  {
   "cell_type": "code",
   "execution_count": 13,
   "metadata": {},
   "outputs": [
    {
     "name": "stdout",
     "output_type": "stream",
     "text": [
      "1\n",
      "1\n",
      "2\n",
      "3\n"
     ]
    }
   ],
   "source": [
    "a = [1, 1, 2, 3, 5, 8, 13, 21, 34, 55, 89]\n",
    "new_list=[]\n",
    "for i in a:\n",
    "    if i<5:\n",
    "        print (i)"
   ]
  },
  {
   "cell_type": "code",
   "execution_count": null,
   "metadata": {},
   "outputs": [],
   "source": []
  }
 ],
 "metadata": {
  "kernelspec": {
   "display_name": "Python 3",
   "language": "python",
   "name": "python3"
  },
  "language_info": {
   "codemirror_mode": {
    "name": "ipython",
    "version": 3
   },
   "file_extension": ".py",
   "mimetype": "text/x-python",
   "name": "python",
   "nbconvert_exporter": "python",
   "pygments_lexer": "ipython3",
   "version": "3.7.4"
  }
 },
 "nbformat": 4,
 "nbformat_minor": 2
}
