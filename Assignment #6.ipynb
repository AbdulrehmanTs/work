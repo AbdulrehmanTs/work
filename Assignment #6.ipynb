{
 "cells": [
  {
   "cell_type": "markdown",
   "metadata": {},
   "source": [
    "### Q.1 Define Object Oriented Programming Language?\n",
    "\n",
    "Answer:\n",
    "Object-oriented programming (OOP) refers to a type of computer programming (software design) in which programmers define the data type of a data structure, and also the types of operations (functions) that can be applied to the data structure."
   ]
  },
  {
   "cell_type": "markdown",
   "metadata": {},
   "source": [
    "### Q.2 Benefits of OOP?\n",
    "\n",
    "Answer: \n",
    "1. Modularity for easier troubleshooting\n",
    "2. Reuse of code through inheritance\n",
    "3. Flexibility through polymorphism\n",
    "4. Effective problem solving\n"
   ]
  },
  {
   "cell_type": "markdown",
   "metadata": {},
   "source": [
    "### Q.3 Differentiate between function and method?\n",
    "\n",
    "Answer:\n",
    "A function is a piece of code that is called by name. It can be passed data to operate on (i.e. the parameters) and can optionally return data (the return value). All data that is passed to a function is explicitly passed.\n",
    "\n",
    "A method is a piece of code that is called by a name that is associated with an object. In most respects it is identical to a function except for two key differences:\n",
    "\n",
    "1. A method is implicitly passed the object on which it was called.\n",
    "2. A method is able to operate on data that is contained within the class (remembering that an object is an instance of a class - the class is the definition, the object is an instance of that data)."
   ]
  },
  {
   "cell_type": "markdown",
   "metadata": {},
   "source": [
    "### Q.4 Define the following terms: Class, Object, attributes and Behavior.\n",
    "\n",
    "Answer: \n",
    "\n",
    "Class: A class is a blueprint for creating objects, providing initial values for member variables or attributes, and implementations of behavior or methods. It defines nature of future objects.\n",
    "\n",
    "Object: An Object is an instance of a Class. When a class is defined, no memory is allocated but when it is instantiated (i.e. an object is created) memory is allocated.\n",
    "\n",
    "Attributes: Attributes are data stored inside a class or instance and represent the state or quality of the class or instance. In short, attributes store information about the instance. One can think of attributes as noun or adjective, while methods are the verb of the class.\n",
    "\n",
    "Behavior: A class's behavior determines how an instance of that class operates; for example, how it will \"react\" if asked to do something by another class or object or if its internal state changes. Behavior is the only way objects can do anything to themselves or have anything done to them."
   ]
  },
  {
   "cell_type": "markdown",
   "metadata": {},
   "source": [
    "### Q.5 \n",
    "Write a code in python in which create a class named it Car which\n",
    "have 5 attributes such like (model, color and name etc.) and 3\n",
    "methods. And create 5 object instance from that class."
   ]
  },
  {
   "cell_type": "code",
   "execution_count": 1,
   "metadata": {},
   "outputs": [
    {
     "name": "stdout",
     "output_type": "stream",
     "text": [
      "The detail of car is as follows\n",
      "Car Name: Aulto\n",
      "Company: Suzuki\n",
      "Model: 2016\n",
      "Color: White\n",
      "Transmission: Manual\n",
      "\n",
      "The detail of car is as follows\n",
      "Car Name: Corolla\n",
      "Company: Toyota\n",
      "Model: 2017\n",
      "Color: Grey\n",
      "Transmission: Automatic\n",
      "\n",
      "The detail of car is as follows\n",
      "Car Name: Mini\n",
      "Company: Tata\n",
      "Model: 2018\n",
      "Color: White\n",
      "Transmission: Semi-automatic\n",
      "\n",
      "The detail of car is as follows\n",
      "Car Name: Picanto\n",
      "Company: Hyundai\n",
      "Model: 2019\n",
      "Color: Black\n",
      "Transmission: Automatic\n",
      "\n",
      "The detail of car is as follows\n",
      "Car Name: Mira\n",
      "Company: Japan Automobile\n",
      "Model: 2019\n",
      "Color: Silver\n",
      "Transmission: Automatic\n",
      "\n"
     ]
    }
   ],
   "source": [
    "class Car():\n",
    "    def __init__(self,name,company,model,color,transmission):\n",
    "        self.name = name\n",
    "        self.company = company\n",
    "        self.model = model\n",
    "        self.color = color\n",
    "        self.transmission = transmission\n",
    "car1 = Car(\"Aulto\",\"Suzuki\",\"2016\",\"White\",\"Manual\")\n",
    "print (\"The detail of car is as follows\\nCar Name: \"+car1.name+\"\\nCompany: \"+car1.company+\"\\nModel: \"+car1.model+\"\\nColor: \"+car1.color+\"\\nTransmission: \"+car1.transmission+\"\\n\")\n",
    "car2 = Car(\"Corolla\",\"Toyota\",\"2017\",\"Grey\",\"Automatic\")\n",
    "print (\"The detail of car is as follows\\nCar Name: \"+car2.name+\"\\nCompany: \"+car2.company+\"\\nModel: \"+car2.model+\"\\nColor: \"+car2.color+\"\\nTransmission: \"+car2.transmission+\"\\n\")\n",
    "car3 = Car(\"Mini\",\"Tata\",\"2018\",\"White\",\"Semi-automatic\")\n",
    "print (\"The detail of car is as follows\\nCar Name: \"+car3.name+\"\\nCompany: \"+car3.company+\"\\nModel: \"+car3.model+\"\\nColor: \"+car3.color+\"\\nTransmission: \"+car3.transmission+\"\\n\")\n",
    "car4 = Car(\"Picanto\",\"Hyundai\",\"2019\",\"Black\",\"Automatic\")\n",
    "print (\"The detail of car is as follows\\nCar Name: \"+car4.name+\"\\nCompany: \"+car4.company+\"\\nModel: \"+car4.model+\"\\nColor: \"+car4.color+\"\\nTransmission: \"+car4.transmission+\"\\n\")\n",
    "car5 = Car(\"Mira\",\"Japan Automobile\",\"2019\",\"Silver\",\"Automatic\")\n",
    "print (\"The detail of car is as follows\\nCar Name: \"+car5.name+\"\\nCompany: \"+car5.company+\"\\nModel: \"+car5.model+\"\\nColor: \"+car5.color+\"\\nTransmission: \"+car5.transmission+\"\\n\")"
   ]
  },
  {
   "cell_type": "code",
   "execution_count": null,
   "metadata": {},
   "outputs": [],
   "source": []
  }
 ],
 "metadata": {
  "kernelspec": {
   "display_name": "Python 3",
   "language": "python",
   "name": "python3"
  },
  "language_info": {
   "codemirror_mode": {
    "name": "ipython",
    "version": 3
   },
   "file_extension": ".py",
   "mimetype": "text/x-python",
   "name": "python",
   "nbconvert_exporter": "python",
   "pygments_lexer": "ipython3",
   "version": "3.7.4"
  }
 },
 "nbformat": 4,
 "nbformat_minor": 2
}
